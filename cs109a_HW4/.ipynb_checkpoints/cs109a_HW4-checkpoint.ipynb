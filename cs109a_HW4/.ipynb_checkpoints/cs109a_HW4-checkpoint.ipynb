{
 "cells": [
  {
   "cell_type": "markdown",
   "metadata": {},
   "source": [
    "# <img style=\"float: left; padding-right: 10px; width: 45px\" src=\"fig/iacs.png\"> S-109A Introduction to Data Science \n",
    "## Homework 4 - Regularization \n",
    "\n",
    "\n",
    "\n",
    "**Harvard University**<br/>\n",
    "**Summer 2018**<br/>\n",
    "**Instructors**: Pavlos Protopapas, Kevin Rader\n",
    "\n",
    "<hr style=\"height:2pt\">"
   ]
  },
  {
   "cell_type": "markdown",
   "metadata": {},
   "source": [
    "### INSTRUCTIONS\n",
    "\n",
    "- To submit your assignment follow the instructions given in canvas.\n",
    "- Restart the kernel and run the whole notebook again before you submit. \n",
    "- If you submit individually and you have worked with someone, please include the name of your [one] partner below. \n",
    "\n",
    "Names of people you have worked with goes here: \n",
    "\n",
    "<hr style=\"height:2pt\">"
   ]
  },
  {
   "cell_type": "code",
   "execution_count": 2,
   "metadata": {},
   "outputs": [
    {
     "data": {
      "text/html": [
       "<style>\n",
       "h1 { \n",
       "    padding-top: 25px;\n",
       "    padding-bottom: 25px;\n",
       "    text-align: left; \n",
       "    padding-left: 10px;\n",
       "    background-color: #DDDDDD; \n",
       "    color: black;\n",
       "}\n",
       "div.exercise {\n",
       "\tbackground-color: #ffcccc;\n",
       "\tborder-color: #E9967A; \t\n",
       "\tborder-left: 5px solid #800080; \n",
       "\tpadding: 0.5em;\n",
       "}\n",
       "div.theme {\n",
       "\tbackground-color: #DDDDDD;\n",
       "\tborder-color: #E9967A; \t\n",
       "\tborder-left: 5px solid #800080; \n",
       "\tpadding: 0.5em;\n",
       "\tfont-size: 18pt;\n",
       "}\n",
       "p.q1 { \n",
       "    padding-top: 5px;\n",
       "    padding-bottom: 5px;\n",
       "    text-align: left; \n",
       "    padding-left: 5px;\n",
       "    background-color: #EEEEEE; \n",
       "    color: black;\n",
       "}\n",
       "header {\n",
       "   padding-top: 35px;\n",
       "    padding-bottom: 35px;\n",
       "    text-align: left; \n",
       "    padding-left: 10px;\n",
       "    background-color: #DDDDDD; \n",
       "    color: black;\n",
       "}\n",
       "</style>\n",
       "\n"
      ],
      "text/plain": [
       "<IPython.core.display.HTML object>"
      ]
     },
     "execution_count": 2,
     "metadata": {},
     "output_type": "execute_result"
    }
   ],
   "source": [
    "from IPython.core.display import HTML\n",
    "def css_styling(): styles = open(\"cs109.css\", \"r\").read(); return HTML(styles)\n",
    "css_styling()"
   ]
  },
  {
   "cell_type": "markdown",
   "metadata": {},
   "source": [
    "import these libraries"
   ]
  },
  {
   "cell_type": "code",
   "execution_count": 3,
   "metadata": {},
   "outputs": [],
   "source": [
    "import warnings\n",
    "warnings.filterwarnings('ignore')\n",
    "import numpy as np\n",
    "import pandas as pd\n",
    "import matplotlib\n",
    "import matplotlib.pyplot as plt\n",
    "from sklearn.metrics import r2_score\n",
    "from sklearn.preprocessing import PolynomialFeatures\n",
    "from sklearn.linear_model import Ridge\n",
    "from sklearn.linear_model import Lasso\n",
    "from sklearn.linear_model import RidgeCV\n",
    "from sklearn.linear_model import LassoCV\n",
    "from sklearn.linear_model import LinearRegression\n",
    "from sklearn.preprocessing import StandardScaler, MinMaxScaler\n",
    "\n",
    "from sklearn.model_selection import cross_val_score\n",
    "from sklearn.model_selection import LeaveOneOut\n",
    "from sklearn.model_selection import KFold\n",
    "\n",
    "#import statsmodels.api as sm\n",
    "\n",
    "from pandas.core import datetools\n",
    "%matplotlib inline"
   ]
  },
  {
   "cell_type": "markdown",
   "metadata": {},
   "source": [
    "# Continuing Bike Sharing Usage Data\n",
    "\n",
    "In this homework, we will focus on regularization and cross validation. We will continue to build regression models for the Capital Bikeshare program in Washington D.C.  See homework 3 for more information about the Capital Bikeshare data that we'll be using extensively. \n",
    "\n"
   ]
  },
  {
   "cell_type": "markdown",
   "metadata": {},
   "source": [
    "## Data Preparation\n",
    "\n",
    "\n",
    "\n",
    "<div class='exercise'> <b> Question 1 </b> </div> \n",
    "  In HW3 Questions 1-3, you preprocessed the data in preparation for your regression analysis. We ask you to repeat those steps (particularly those in Question 3) so that we can compare the analysis models in this HW with those you developed in HW3.  In this HW we'll be using models from sklearn exclusively (as opposed to statsmodels)\n",
    "  \n",
    "**1.1** [From HW3] Read `data/BSS_train.csv` and `data/BSS_test.csv` into dataframes `BSS_train` and `BSS_test`, respectively.  Remove the `dteday` column from both train and test dataset. We do not need it, and its format cannot be used for analysis.  Also remove the `casual` and `registered` columns for both training and test datasets as they make  `count` trivial.   \n",
    "\n",
    "**1.2** Since we'll be exploring Regularization and Polynomial Features, it will make sense to standardize our data.  Standardize the numerical features. Store the dataframes for the processed training and test predictors into the variables `X_train` and `X_test`.  Store the appropriately shaped numpy arrays for the corresponding train and test `count` columns into `y_train` and `y_test`.\n",
    "\n",
    "**1.3** Use the `LinearRegression` library from `sklearn` to fit a multiple linear regression model to the training set data in `X_train`.  Store the fitted model in the variable `BikeOLSModel`.\n",
    "\n",
    "**1.4** What are the training and test set $R^2$ scores?  Store the training and test $R^2$ scores of the `BikeOLSModel` in a dictionary `BikeOLS_r2scores` using the string 'training' and 'test' as keys.  \n",
    "\n",
    "**1.5**   We're going to use bootstrapped confidence intervals (use 500 bootstrap iterations) to determine which of the estimated coefficients for the `BikeOLSModel` are statistically significant at a significance level of 5% .  We'll do so by creating 3 different functions:\n",
    "\n",
    "1. `make_bootstrap_sample(dataset_X, dataset_y)` returns a bootstrap sample of `dataset_X` and `dataset_y`\n",
    "2. `calculate_coefficients(dataset_X, dataset_y, model)` returns in the form of a dictionary regression coefficients calculated by your model on `dataset_X` and `dataset_y`.  The keys for regression coefficients dictionary should be the names of the features.  The values should be the coefficient values of that feature calculated on your model.  An example would be {'hum': 12.3, 'windspeed': -1.2, 'Sunday': 0.6 ... }\n",
    "3. `get_significant_predictors(regression_coefficients, significance_level)` takes as input a list of regression coefficient dictionaries (each one the output of `calculate_coefficients` and  returns a python list of the feature names of the significant predictors e.g. ['Monday', 'hum', 'holiday', ... ]\n",
    "\n",
    "In the above functions `dataset_X` should always be a pandas dataframe with your features, `dataset_y` a numpy column vector with the values of the response variable and collectively they form the dataset upon which the operations take place. `model` is the `sklearn` regression model that will be used to generate the regression coefficients. `regression_coefficients` is a list of dictionaries of numpy arrays with each numpy array containing the regression coefficients (not including the intercept) calculated from one bootstrap sample.  `significance_level` represents the significance level as a floating point number.  So a 5% significance level should be represented as 0.05.  \n",
    "\n",
    "\n",
    "Store the feature names as a list of strings in the variable `BikeOLS_significant_bootstrap` and print them for your answer.\n"
   ]
  },
  {
   "cell_type": "markdown",
   "metadata": {},
   "source": [
    "### Answers"
   ]
  },
  {
   "cell_type": "markdown",
   "metadata": {},
   "source": [
    "#### 1.1 Read `data/BSS_train.csv` and `data/BSS_test.csv` into Pandas DataFrames"
   ]
  },
  {
   "cell_type": "code",
   "execution_count": 4,
   "metadata": {},
   "outputs": [
    {
     "data": {
      "text/html": [
       "<div>\n",
       "<style scoped>\n",
       "    .dataframe tbody tr th:only-of-type {\n",
       "        vertical-align: middle;\n",
       "    }\n",
       "\n",
       "    .dataframe tbody tr th {\n",
       "        vertical-align: top;\n",
       "    }\n",
       "\n",
       "    .dataframe thead th {\n",
       "        text-align: right;\n",
       "    }\n",
       "</style>\n",
       "<table border=\"1\" class=\"dataframe\">\n",
       "  <thead>\n",
       "    <tr style=\"text-align: right;\">\n",
       "      <th></th>\n",
       "      <th>hour</th>\n",
       "      <th>holiday</th>\n",
       "      <th>year</th>\n",
       "      <th>workingday</th>\n",
       "      <th>temp</th>\n",
       "      <th>atemp</th>\n",
       "      <th>hum</th>\n",
       "      <th>windspeed</th>\n",
       "      <th>counts</th>\n",
       "      <th>spring</th>\n",
       "      <th>...</th>\n",
       "      <th>Dec</th>\n",
       "      <th>Mon</th>\n",
       "      <th>Tue</th>\n",
       "      <th>Wed</th>\n",
       "      <th>Thu</th>\n",
       "      <th>Fri</th>\n",
       "      <th>Sat</th>\n",
       "      <th>Cloudy</th>\n",
       "      <th>Snow</th>\n",
       "      <th>Storm</th>\n",
       "    </tr>\n",
       "  </thead>\n",
       "  <tbody>\n",
       "    <tr>\n",
       "      <th>0</th>\n",
       "      <td>0</td>\n",
       "      <td>0</td>\n",
       "      <td>0</td>\n",
       "      <td>0</td>\n",
       "      <td>0.24</td>\n",
       "      <td>0.2879</td>\n",
       "      <td>0.81</td>\n",
       "      <td>0.0</td>\n",
       "      <td>16</td>\n",
       "      <td>0</td>\n",
       "      <td>...</td>\n",
       "      <td>0</td>\n",
       "      <td>0</td>\n",
       "      <td>0</td>\n",
       "      <td>0</td>\n",
       "      <td>0</td>\n",
       "      <td>0</td>\n",
       "      <td>1</td>\n",
       "      <td>0</td>\n",
       "      <td>0</td>\n",
       "      <td>0</td>\n",
       "    </tr>\n",
       "    <tr>\n",
       "      <th>1</th>\n",
       "      <td>1</td>\n",
       "      <td>0</td>\n",
       "      <td>0</td>\n",
       "      <td>0</td>\n",
       "      <td>0.22</td>\n",
       "      <td>0.2727</td>\n",
       "      <td>0.80</td>\n",
       "      <td>0.0</td>\n",
       "      <td>40</td>\n",
       "      <td>0</td>\n",
       "      <td>...</td>\n",
       "      <td>0</td>\n",
       "      <td>0</td>\n",
       "      <td>0</td>\n",
       "      <td>0</td>\n",
       "      <td>0</td>\n",
       "      <td>0</td>\n",
       "      <td>1</td>\n",
       "      <td>0</td>\n",
       "      <td>0</td>\n",
       "      <td>0</td>\n",
       "    </tr>\n",
       "    <tr>\n",
       "      <th>2</th>\n",
       "      <td>2</td>\n",
       "      <td>0</td>\n",
       "      <td>0</td>\n",
       "      <td>0</td>\n",
       "      <td>0.22</td>\n",
       "      <td>0.2727</td>\n",
       "      <td>0.80</td>\n",
       "      <td>0.0</td>\n",
       "      <td>32</td>\n",
       "      <td>0</td>\n",
       "      <td>...</td>\n",
       "      <td>0</td>\n",
       "      <td>0</td>\n",
       "      <td>0</td>\n",
       "      <td>0</td>\n",
       "      <td>0</td>\n",
       "      <td>0</td>\n",
       "      <td>1</td>\n",
       "      <td>0</td>\n",
       "      <td>0</td>\n",
       "      <td>0</td>\n",
       "    </tr>\n",
       "    <tr>\n",
       "      <th>3</th>\n",
       "      <td>3</td>\n",
       "      <td>0</td>\n",
       "      <td>0</td>\n",
       "      <td>0</td>\n",
       "      <td>0.24</td>\n",
       "      <td>0.2879</td>\n",
       "      <td>0.75</td>\n",
       "      <td>0.0</td>\n",
       "      <td>13</td>\n",
       "      <td>0</td>\n",
       "      <td>...</td>\n",
       "      <td>0</td>\n",
       "      <td>0</td>\n",
       "      <td>0</td>\n",
       "      <td>0</td>\n",
       "      <td>0</td>\n",
       "      <td>0</td>\n",
       "      <td>1</td>\n",
       "      <td>0</td>\n",
       "      <td>0</td>\n",
       "      <td>0</td>\n",
       "    </tr>\n",
       "    <tr>\n",
       "      <th>4</th>\n",
       "      <td>4</td>\n",
       "      <td>0</td>\n",
       "      <td>0</td>\n",
       "      <td>0</td>\n",
       "      <td>0.24</td>\n",
       "      <td>0.2879</td>\n",
       "      <td>0.75</td>\n",
       "      <td>0.0</td>\n",
       "      <td>1</td>\n",
       "      <td>0</td>\n",
       "      <td>...</td>\n",
       "      <td>0</td>\n",
       "      <td>0</td>\n",
       "      <td>0</td>\n",
       "      <td>0</td>\n",
       "      <td>0</td>\n",
       "      <td>0</td>\n",
       "      <td>1</td>\n",
       "      <td>0</td>\n",
       "      <td>0</td>\n",
       "      <td>0</td>\n",
       "    </tr>\n",
       "  </tbody>\n",
       "</table>\n",
       "<p>5 rows × 32 columns</p>\n",
       "</div>"
      ],
      "text/plain": [
       "   hour  holiday  year  workingday  temp   atemp   hum  windspeed  counts  \\\n",
       "0     0        0     0           0  0.24  0.2879  0.81        0.0      16   \n",
       "1     1        0     0           0  0.22  0.2727  0.80        0.0      40   \n",
       "2     2        0     0           0  0.22  0.2727  0.80        0.0      32   \n",
       "3     3        0     0           0  0.24  0.2879  0.75        0.0      13   \n",
       "4     4        0     0           0  0.24  0.2879  0.75        0.0       1   \n",
       "\n",
       "   spring  ...    Dec  Mon  Tue  Wed  Thu  Fri  Sat  Cloudy  Snow  Storm  \n",
       "0       0  ...      0    0    0    0    0    0    1       0     0      0  \n",
       "1       0  ...      0    0    0    0    0    0    1       0     0      0  \n",
       "2       0  ...      0    0    0    0    0    0    1       0     0      0  \n",
       "3       0  ...      0    0    0    0    0    0    1       0     0      0  \n",
       "4       0  ...      0    0    0    0    0    0    1       0     0      0  \n",
       "\n",
       "[5 rows x 32 columns]"
      ]
     },
     "execution_count": 4,
     "metadata": {},
     "output_type": "execute_result"
    }
   ],
   "source": [
    "BBS_train = pd.read_csv(\"data/BSS_train.csv\", index_col=0)\n",
    "BBS_train = BBS_train.drop('dteday', axis=1)\n",
    "BBS_train = BBS_train.drop('casual', axis=1)\n",
    "BBS_train = BBS_train.drop('registered', axis=1)\n",
    "\n",
    "BBS_test = pd.read_csv(\"data/BSS_test.csv\", index_col=0)\n",
    "BBS_test = BBS_test.drop('dteday', axis=1)\n",
    "BBS_test = BBS_test.drop('casual', axis=1)\n",
    "BBS_test = BBS_test.drop('registered', axis=1)\n",
    "\n",
    "BBS_train.head()"
   ]
  },
  {
   "cell_type": "markdown",
   "metadata": {},
   "source": [
    "#### 1.2 Standardizing our data"
   ]
  },
  {
   "cell_type": "code",
   "execution_count": 319,
   "metadata": {},
   "outputs": [],
   "source": [
    "df_train = BBS_train.copy()\n",
    "df_test = BBS_test.copy()\n",
    "\n",
    "list1 = ['temp', 'atemp', 'hum', 'windspeed']\n",
    "\n",
    "scaler = StandardScaler().fit(df_train[list1])\n",
    "\n",
    "df_train[list1] = scaler.transform(df_train[list1])\n",
    "df_test[list1] = scaler.transform(df_test[list1])\n",
    "\n",
    "y_train = df_train['counts']\n",
    "X_train = df_train.loc[:, df_train.columns != 'counts']\n",
    "y_test = df_test['counts']\n",
    "X_test = df_test.loc[:, df_test.columns != 'counts']"
   ]
  },
  {
   "cell_type": "markdown",
   "metadata": {},
   "source": [
    "#### 1.3 Use the `LinearRegression` library from `sklearn` to fit a multiple linear regression."
   ]
  },
  {
   "cell_type": "code",
   "execution_count": 320,
   "metadata": {},
   "outputs": [],
   "source": [
    "linreg = LinearRegression()\n",
    "\n",
    "BikeOLSModel = linreg.fit(X_train, y_train, sample_weight=None)"
   ]
  },
  {
   "cell_type": "markdown",
   "metadata": {},
   "source": [
    "#### 1.4 What are the training and test set $R^2$ scores? Store the $R^2$ scores of the `BikeOLSModel` on the training and test sets in a dictionary `BikeOLS_r2scores`. "
   ]
  },
  {
   "cell_type": "code",
   "execution_count": 321,
   "metadata": {},
   "outputs": [
    {
     "name": "stdout",
     "output_type": "stream",
     "text": [
      "R2 for training set: 0.4065387827969087\n",
      "R2 for testing set: 0.40638554757102263\n"
     ]
    }
   ],
   "source": [
    "BikeOLSModel.predict(X_train)\n",
    "\n",
    "r2train = r2_score(y_train, BikeOLSModel.predict(X_train))\n",
    "r2test = r2_score(y_test, BikeOLSModel.predict(X_test))\n",
    "\n",
    "print('R2 for training set:', r2train)\n",
    "print('R2 for testing set:', r2test)"
   ]
  },
  {
   "cell_type": "code",
   "execution_count": 322,
   "metadata": {},
   "outputs": [
    {
     "name": "stdout",
     "output_type": "stream",
     "text": [
      "{'Training': 0.4065387827969087, 'Testing': 0.40638554757102263}\n"
     ]
    }
   ],
   "source": [
    "# store in dict \n",
    "\n",
    "BikeOLS_r2scores = {}\n",
    "BikeOLS_r2scores['Training'] = r2train\n",
    "BikeOLS_r2scores['Testing'] = r2test\n",
    "\n",
    "print(BikeOLS_r2scores)"
   ]
  },
  {
   "cell_type": "markdown",
   "metadata": {},
   "source": [
    "#### 1.5 We're going to use bootstrapped confidence intervals to determine which of the estimated coefficients ..."
   ]
  },
  {
   "cell_type": "code",
   "execution_count": 101,
   "metadata": {},
   "outputs": [],
   "source": [
    "# your code here\n",
    "\n",
    "# dataset_x should be a pandas dataframe\n",
    "\n",
    "## accepts dataset inputs as numpy arrays\n",
    "def make_bootstrap_sample(dataset_X, dataset_y, size = None):\n",
    "    \n",
    "    N = 500\n",
    "    bootstrap_beta1s = np.zeros(N)\n",
    "    for cur_bootstrap_rep in range(N):\n",
    "        inds_to_sample = np.random.choice(dataset_x.shape[0], size=dataset_x.shape[0], replace=True)\n",
    "        \n",
    "        dataset_x_resample = dataset_x[inds_to_sample]\n",
    "        dataset_y_resample = dataset_y[inds_to_sample]\n",
    "    \n",
    "    # by default return a bootstrap sample of the same size as the original dataset\n",
    "    if not size: size = len(dataset_X)\n",
    "    \n",
    "    # if the X and y datasets aren't the same size, raise an exception\n",
    "    if len(dataset_X) != len(dataset_y):\n",
    "        raise Exception(\"Data size must match between dataset_X and dataset_y\")\n",
    "        \n",
    "    \n",
    "    dataset_x_resample = bootstap_dataset_X\n",
    "    dataset_y_resample = bootstap_dataset_y\n",
    "    \n",
    "    # return as a tuple your bootstrap samples of dataset_X as a pandas dataframe\n",
    "    # and your bootstrap samples of dataset y as a numpy column vector\n",
    "    \n",
    "    return (bootstrap_dataset_X, bootstrap_dataset_y)\n",
    "    \n",
    "\n",
    "def calculate_coefficients(dataset_X, dataset_y, model):\n",
    "    \n",
    "    # your code here\n",
    "    \n",
    "    # return coefficients  in the variable  coefficients_dictioanry as a dictionary\n",
    "    # with the key being the name of the feature as a string\n",
    "    # the value being the value of the coefficients\n",
    "    # do not return the intercept as part of this\n",
    "    return coefficients_dictionary\n",
    "\n",
    "\n",
    "def get_significant_predictors(regression_coefficients, significance_level):\n",
    "    \n",
    "    # your code here\n",
    "\n",
    "    \n",
    "    # regression_coefficients is a list of dictionaries\n",
    "    # with the key being the name of the feature as a string\n",
    "    # the value being the value of the coefficients\n",
    "    # each dictionary in th list should be the output of calculate_coefficients\n",
    "    \n",
    "    \n",
    "    \n",
    "    \n",
    "    # return the significant coefficients as a list of strings\n",
    "    return significant_coefficients"
   ]
  },
  {
   "cell_type": "code",
   "execution_count": 106,
   "metadata": {},
   "outputs": [
    {
     "ename": "KeyError",
     "evalue": "'[5640 2843 6325 ... 3322 4358 1338] not in index'",
     "output_type": "error",
     "traceback": [
      "\u001b[0;31m---------------------------------------------------------------------------\u001b[0m",
      "\u001b[0;31mKeyError\u001b[0m                                  Traceback (most recent call last)",
      "\u001b[0;32m<ipython-input-106-d320b477b0f1>\u001b[0m in \u001b[0;36m<module>\u001b[0;34m()\u001b[0m\n\u001b[1;32m      4\u001b[0m \u001b[0mdataset_y\u001b[0m \u001b[0;34m=\u001b[0m \u001b[0my_train\u001b[0m\u001b[0;34m\u001b[0m\u001b[0m\n\u001b[1;32m      5\u001b[0m \u001b[0;34m\u001b[0m\u001b[0m\n\u001b[0;32m----> 6\u001b[0;31m \u001b[0mbootstrap\u001b[0m \u001b[0;34m=\u001b[0m \u001b[0mmake_bootstrap_sample\u001b[0m\u001b[0;34m(\u001b[0m\u001b[0mdataset_x\u001b[0m\u001b[0;34m,\u001b[0m \u001b[0mdataset_y\u001b[0m\u001b[0;34m)\u001b[0m\u001b[0;34m\u001b[0m\u001b[0m\n\u001b[0m",
      "\u001b[0;32m<ipython-input-101-24de955e2930>\u001b[0m in \u001b[0;36mmake_bootstrap_sample\u001b[0;34m(dataset_X, dataset_y, size)\u001b[0m\n\u001b[1;32m     11\u001b[0m         \u001b[0minds_to_sample\u001b[0m \u001b[0;34m=\u001b[0m \u001b[0mnp\u001b[0m\u001b[0;34m.\u001b[0m\u001b[0mrandom\u001b[0m\u001b[0;34m.\u001b[0m\u001b[0mchoice\u001b[0m\u001b[0;34m(\u001b[0m\u001b[0mdataset_x\u001b[0m\u001b[0;34m.\u001b[0m\u001b[0mshape\u001b[0m\u001b[0;34m[\u001b[0m\u001b[0;36m0\u001b[0m\u001b[0;34m]\u001b[0m\u001b[0;34m,\u001b[0m \u001b[0msize\u001b[0m\u001b[0;34m=\u001b[0m\u001b[0mdataset_x\u001b[0m\u001b[0;34m.\u001b[0m\u001b[0mshape\u001b[0m\u001b[0;34m[\u001b[0m\u001b[0;36m0\u001b[0m\u001b[0;34m]\u001b[0m\u001b[0;34m,\u001b[0m \u001b[0mreplace\u001b[0m\u001b[0;34m=\u001b[0m\u001b[0;32mTrue\u001b[0m\u001b[0;34m)\u001b[0m\u001b[0;34m\u001b[0m\u001b[0m\n\u001b[1;32m     12\u001b[0m \u001b[0;34m\u001b[0m\u001b[0m\n\u001b[0;32m---> 13\u001b[0;31m         \u001b[0mdataset_x_resample\u001b[0m \u001b[0;34m=\u001b[0m \u001b[0mdataset_x\u001b[0m\u001b[0;34m[\u001b[0m\u001b[0minds_to_sample\u001b[0m\u001b[0;34m]\u001b[0m\u001b[0;34m\u001b[0m\u001b[0m\n\u001b[0m\u001b[1;32m     14\u001b[0m         \u001b[0mdataset_y_resample\u001b[0m \u001b[0;34m=\u001b[0m \u001b[0mdataset_y\u001b[0m\u001b[0;34m[\u001b[0m\u001b[0minds_to_sample\u001b[0m\u001b[0;34m]\u001b[0m\u001b[0;34m\u001b[0m\u001b[0m\n\u001b[1;32m     15\u001b[0m \u001b[0;34m\u001b[0m\u001b[0m\n",
      "\u001b[0;32m~/anaconda3/lib/python3.6/site-packages/pandas/core/frame.py\u001b[0m in \u001b[0;36m__getitem__\u001b[0;34m(self, key)\u001b[0m\n\u001b[1;32m   2677\u001b[0m         \u001b[0;32mif\u001b[0m \u001b[0misinstance\u001b[0m\u001b[0;34m(\u001b[0m\u001b[0mkey\u001b[0m\u001b[0;34m,\u001b[0m \u001b[0;34m(\u001b[0m\u001b[0mSeries\u001b[0m\u001b[0;34m,\u001b[0m \u001b[0mnp\u001b[0m\u001b[0;34m.\u001b[0m\u001b[0mndarray\u001b[0m\u001b[0;34m,\u001b[0m \u001b[0mIndex\u001b[0m\u001b[0;34m,\u001b[0m \u001b[0mlist\u001b[0m\u001b[0;34m)\u001b[0m\u001b[0;34m)\u001b[0m\u001b[0;34m:\u001b[0m\u001b[0;34m\u001b[0m\u001b[0m\n\u001b[1;32m   2678\u001b[0m             \u001b[0;31m# either boolean or fancy integer index\u001b[0m\u001b[0;34m\u001b[0m\u001b[0;34m\u001b[0m\u001b[0m\n\u001b[0;32m-> 2679\u001b[0;31m             \u001b[0;32mreturn\u001b[0m \u001b[0mself\u001b[0m\u001b[0;34m.\u001b[0m\u001b[0m_getitem_array\u001b[0m\u001b[0;34m(\u001b[0m\u001b[0mkey\u001b[0m\u001b[0;34m)\u001b[0m\u001b[0;34m\u001b[0m\u001b[0m\n\u001b[0m\u001b[1;32m   2680\u001b[0m         \u001b[0;32melif\u001b[0m \u001b[0misinstance\u001b[0m\u001b[0;34m(\u001b[0m\u001b[0mkey\u001b[0m\u001b[0;34m,\u001b[0m \u001b[0mDataFrame\u001b[0m\u001b[0;34m)\u001b[0m\u001b[0;34m:\u001b[0m\u001b[0;34m\u001b[0m\u001b[0m\n\u001b[1;32m   2681\u001b[0m             \u001b[0;32mreturn\u001b[0m \u001b[0mself\u001b[0m\u001b[0;34m.\u001b[0m\u001b[0m_getitem_frame\u001b[0m\u001b[0;34m(\u001b[0m\u001b[0mkey\u001b[0m\u001b[0;34m)\u001b[0m\u001b[0;34m\u001b[0m\u001b[0m\n",
      "\u001b[0;32m~/anaconda3/lib/python3.6/site-packages/pandas/core/frame.py\u001b[0m in \u001b[0;36m_getitem_array\u001b[0;34m(self, key)\u001b[0m\n\u001b[1;32m   2721\u001b[0m             \u001b[0;32mreturn\u001b[0m \u001b[0mself\u001b[0m\u001b[0;34m.\u001b[0m\u001b[0m_take\u001b[0m\u001b[0;34m(\u001b[0m\u001b[0mindexer\u001b[0m\u001b[0;34m,\u001b[0m \u001b[0maxis\u001b[0m\u001b[0;34m=\u001b[0m\u001b[0;36m0\u001b[0m\u001b[0;34m)\u001b[0m\u001b[0;34m\u001b[0m\u001b[0m\n\u001b[1;32m   2722\u001b[0m         \u001b[0;32melse\u001b[0m\u001b[0;34m:\u001b[0m\u001b[0;34m\u001b[0m\u001b[0m\n\u001b[0;32m-> 2723\u001b[0;31m             \u001b[0mindexer\u001b[0m \u001b[0;34m=\u001b[0m \u001b[0mself\u001b[0m\u001b[0;34m.\u001b[0m\u001b[0mloc\u001b[0m\u001b[0;34m.\u001b[0m\u001b[0m_convert_to_indexer\u001b[0m\u001b[0;34m(\u001b[0m\u001b[0mkey\u001b[0m\u001b[0;34m,\u001b[0m \u001b[0maxis\u001b[0m\u001b[0;34m=\u001b[0m\u001b[0;36m1\u001b[0m\u001b[0;34m)\u001b[0m\u001b[0;34m\u001b[0m\u001b[0m\n\u001b[0m\u001b[1;32m   2724\u001b[0m             \u001b[0;32mreturn\u001b[0m \u001b[0mself\u001b[0m\u001b[0;34m.\u001b[0m\u001b[0m_take\u001b[0m\u001b[0;34m(\u001b[0m\u001b[0mindexer\u001b[0m\u001b[0;34m,\u001b[0m \u001b[0maxis\u001b[0m\u001b[0;34m=\u001b[0m\u001b[0;36m1\u001b[0m\u001b[0;34m)\u001b[0m\u001b[0;34m\u001b[0m\u001b[0m\n\u001b[1;32m   2725\u001b[0m \u001b[0;34m\u001b[0m\u001b[0m\n",
      "\u001b[0;32m~/anaconda3/lib/python3.6/site-packages/pandas/core/indexing.py\u001b[0m in \u001b[0;36m_convert_to_indexer\u001b[0;34m(self, obj, axis, is_setter)\u001b[0m\n\u001b[1;32m   1325\u001b[0m                 \u001b[0;32mif\u001b[0m \u001b[0mmask\u001b[0m\u001b[0;34m.\u001b[0m\u001b[0many\u001b[0m\u001b[0;34m(\u001b[0m\u001b[0;34m)\u001b[0m\u001b[0;34m:\u001b[0m\u001b[0;34m\u001b[0m\u001b[0m\n\u001b[1;32m   1326\u001b[0m                     raise KeyError('{mask} not in index'\n\u001b[0;32m-> 1327\u001b[0;31m                                    .format(mask=objarr[mask]))\n\u001b[0m\u001b[1;32m   1328\u001b[0m \u001b[0;34m\u001b[0m\u001b[0m\n\u001b[1;32m   1329\u001b[0m                 \u001b[0;32mreturn\u001b[0m \u001b[0mcom\u001b[0m\u001b[0;34m.\u001b[0m\u001b[0m_values_from_object\u001b[0m\u001b[0;34m(\u001b[0m\u001b[0mindexer\u001b[0m\u001b[0;34m)\u001b[0m\u001b[0;34m\u001b[0m\u001b[0m\n",
      "\u001b[0;31mKeyError\u001b[0m: '[5640 2843 6325 ... 3322 4358 1338] not in index'"
     ]
    }
   ],
   "source": [
    "# code testing cell\n",
    "\n",
    "dataset_x = X_train\n",
    "dataset_y = y_train\n",
    "\n",
    "bootstrap = make_bootstrap_sample(dataset_x, dataset_y)"
   ]
  },
  {
   "cell_type": "markdown",
   "metadata": {},
   "source": [
    "## Penalization Methods\n",
    "\n",
    "In HW 3 Question 5 we explored using subset selection to find a significant subset of features.  We then fit a regression model just on that subset of features instead of on the full dataset (including all features).   As an alternative to selecting a subset of predictors and fitting a regression model on the subset, one can fit a linear regression model on all predictors, but shrink or regularize the coefficient estimates to make sure that the model does not \"overfit\" the training set. \n",
    "\n",
    "<div class='exercise'> <b> Question 2 </b> </div> \n",
    "  We're going to use Ridge and Lasso regression regularization techniques to fit linear models to the training set.  We'll use cross-validation and shrinkage parameters $\\lambda$ from the set $\\{.001,.005,1,5,10,50,100,500,1000\\}$ to pick the best model for each regularization technique.\n",
    "\n",
    "**2.1** Use 5-fold cross-validation to pick the best shrinkage parameter from the set $\\{.001,.005,1,5,10,50,100,500,1000\\}$ for your Ridge Regression model on the training data.  Fit a Ridge Regression model on the training set with the selected shrinkage parameter and store your fitted model in the variable `BikeRRModel`.  Store the selected shrinkage parameter in the variable `BikeRR_shrinkage_parameter`.\n",
    "\n",
    "**2.2** Use 5-fold cross-validation to pick the best shrinkage parameter from the set $\\{.001,.005,1,5,10,50,100,500,1000\\}$ for your Lasso Regression model on the training data.  Fit a Lasso Regression model on the training set with the selected shrinkage parameter and store your fitted model in the variable `BikeLRModel`.  Store the selected shrinkage parameter in the variable `BikeLR_shrinkage_parameter`.\n",
    "\n",
    "**2.3** Create three dictionaries `BikeOLSparams`, `BikeLRparams`, and `BikeRRparams`.  Store in each the corresponding regression coefficients for each of the regression models indexed by the string feature name.\n",
    "\n",
    "**2.4** For the Lasso and Ridge Regression models list the features that are assigned a coefficient value close to 0 (i.e. the absolute value of the coefficient is less than 0.1).  How closely do they match the redundant predictors found (if any) in HW 3, Question 5?\n",
    "\n",
    "**2.5** To get a visual sense of how the features different regression models (Multiple Linear Regression, Ridge Regression, Lasso Regression) estimate coefficients, order the features by magnitude of the estimated coefficients in the Multiple Linear Regression Model (no shrinkage).  Plot a bar graph of the magnitude (absolute value) of the estimated coefficients from Multiple Linear Regression in order from greatest to least.  Using a different color (and alpha values) overlay bar graphs of the magnitude of the estimated coefficients (in the same order as the Multiple Linear Regression coefficients) from Ridge and Lasso Regression.\n",
    "\n",
    "**2.6** Let's examine a pair of features we believe to be related.  Is there a difference in the way Ridge and Lasso regression assign coefficients to the predictors `temp` and `atemp`? If so, explain the reason for the difference.\n",
    "\n",
    "**2.7** Discuss the Results:\n",
    "\n",
    "1. How do the estimated coefficients compare to or differ from the coefficients estimated by a plain linear regression (without shrinkage penalty) in Question 1? \n",
    "2. Is there a difference between coefficients estimated by the two shrinkage methods? If so, give an explantion for the difference.\n",
    "3. Is the significance related to the shrinkage in some way?\n",
    "\n",
    "*Hint:* You may use `sklearn`'s `RidgeCV` and `LassoCV` classes to implement Ridge and Lasso regression. These classes automatically perform cross-validation to tune the parameter $\\lambda$ from a given range of values."
   ]
  },
  {
   "cell_type": "markdown",
   "metadata": {},
   "source": [
    "### Answers"
   ]
  },
  {
   "cell_type": "code",
   "execution_count": 323,
   "metadata": {},
   "outputs": [],
   "source": [
    "lambdas = [.001, .005, 1, 5, 10, 50, 100, 500, 1000]"
   ]
  },
  {
   "cell_type": "markdown",
   "metadata": {},
   "source": [
    "#### 2.1 Use 5-fold cross-validation to pick the best shrinkage parameter from the set $\\{.001,.005,1,5,10,50,100,500,1000\\}$ for your Ridge Regression model."
   ]
  },
  {
   "cell_type": "code",
   "execution_count": 324,
   "metadata": {},
   "outputs": [
    {
     "name": "stdout",
     "output_type": "stream",
     "text": [
      "Best model searched:\n",
      "alpha = 500\n",
      "intercept = 50.54918351480205\n",
      "betas = [  7.40013942  -8.65032135  67.62631329   8.03485659  38.45620844\n",
      "  30.38408863 -38.76313691   3.31636365  10.95697703  -7.61219238\n",
      "  39.24039587  -5.7907642    2.12685078  -2.48805065   6.89515972\n",
      " -10.41361106 -25.86171501  -2.43120145  21.90580851  13.17516665\n",
      "   3.24376026   6.06335042  -2.53447364  -3.72704688   3.12310593\n",
      "  -0.75979421   3.28274403  10.13390624   7.50831205 -19.48505998\n",
      "   0.16259052], \n"
     ]
    }
   ],
   "source": [
    "#5-fold cross validation RIDGE\n",
    "\n",
    "ridgeCV_object = RidgeCV(alphas=(0.001, .005, 1, 5, 10, 50, 100, 500, 1000), cv=5)\n",
    "ridgeCV_object.fit(X_train, y_train)\n",
    "print(\"Best model searched:\\nalpha = {}\\nintercept = {}\\nbetas = {}, \".format(ridgeCV_object.alpha_,\n",
    "                                                                            ridgeCV_object.intercept_,\n",
    "                                                                            ridgeCV_object.coef_\n",
    "                                                                            ))\n",
    "BikeRR_shrinkage_paramater = ridgeCV_object.alpha_"
   ]
  },
  {
   "cell_type": "markdown",
   "metadata": {},
   "source": [
    "#### 2.2 Use 5-fold cross-validation to pick the best shrinkage parameter from the set $\\{.001,.005,1,5,10,50,100,500,1000\\}$ for your Lasso Regression model."
   ]
  },
  {
   "cell_type": "code",
   "execution_count": 325,
   "metadata": {},
   "outputs": [
    {
     "name": "stdout",
     "output_type": "stream",
     "text": [
      "Best model searched:\n",
      "alpha = 0.005\n",
      "intercept = 53.77329748087507\n",
      "betas = [  7.22736926 -20.57823677  76.37027029   8.63845517  63.83086193\n",
      "  12.86839725 -39.70292886   2.75391451  41.58991227  27.52758934\n",
      "  67.15043175  -6.86216745 -10.1662586  -38.87136106 -30.40403107\n",
      " -62.5993613  -89.85110768 -55.65367495 -12.81795914 -13.5826234\n",
      " -23.52294836  -8.41945827  -0.          -3.41833346   4.97033168\n",
      "  -0.43325296   5.49329646  14.89481243   6.80710135 -28.22885659\n",
      "   8.20126846], \n"
     ]
    }
   ],
   "source": [
    "#5-fold cross validation Lasso\n",
    "\n",
    "LassoCV_object = LassoCV(alphas=(0.001, .005, 1, 5, 10, 50, 100, 500, 1000), cv=5)\n",
    "LassoCV_object.fit(X_train, y_train)\n",
    "print(\"Best model searched:\\nalpha = {}\\nintercept = {}\\nbetas = {}, \".format(LassoCV_object.alpha_,\n",
    "                                                                            LassoCV_object.intercept_,\n",
    "                                                                            LassoCV_object.coef_\n",
    "                                                                            ))\n",
    "BikeLR_shrinkage_paramater = LassoCV_object.alpha_"
   ]
  },
  {
   "cell_type": "markdown",
   "metadata": {},
   "source": [
    "#### 2.3 Create three dictionaries `BikeOLSparams`, `BikeLRparams`, and `BikeRRparams`.  Store in each the corresponding regression coefficients."
   ]
  },
  {
   "cell_type": "code",
   "execution_count": 327,
   "metadata": {},
   "outputs": [
    {
     "data": {
      "text/plain": [
       "{'hour': 7.227369260379995,\n",
       " 'holiday': -20.57823677247758,\n",
       " 'year': 76.37027029037326,\n",
       " 'workingday': 8.638455174700477,\n",
       " 'temp': 63.830861928234604,\n",
       " 'atemp': 12.86839725489356,\n",
       " 'hum': -39.702928855855745,\n",
       " 'windspeed': 2.753914505318184,\n",
       " 'spring': 41.589912268371464,\n",
       " 'summer': 27.527589342870208,\n",
       " 'fall': 67.1504317478241,\n",
       " 'Feb': -6.8621674504358765,\n",
       " 'Mar': -10.166258601877965,\n",
       " 'Apr': -38.87136105631725,\n",
       " 'May': -30.404031072290664,\n",
       " 'Jun': -62.5993613002614,\n",
       " 'Jul': -89.85110767839232,\n",
       " 'Aug': -55.65367494868226,\n",
       " 'Sept': -12.817959135678,\n",
       " 'Oct': -13.582623398685202,\n",
       " 'Nov': -23.522948356057043,\n",
       " 'Dec': -8.419458272403814,\n",
       " 'Mon': -0.0,\n",
       " 'Tue': -3.418333462624456,\n",
       " 'Wed': 4.970331682357552,\n",
       " 'Thu': -0.43325296364089105,\n",
       " 'Fri': 5.493296461010974,\n",
       " 'Sat': 14.894812427329443,\n",
       " 'Cloudy': 6.807101353767023,\n",
       " 'Snow': -28.228856592303014,\n",
       " 'Storm': 8.20126846486855}"
      ]
     },
     "execution_count": 327,
     "metadata": {},
     "output_type": "execute_result"
    }
   ],
   "source": [
    "# your code here\n",
    "\n",
    "BikeLRparams = dict(zip(X_train, LassoCV_object.coef_))\n",
    "BikeRRparams = dict(zip(X_train, ridgeCV_object.coef_))\n",
    "BikeOLSparams = dict(zip(X_train, BikeOLSModel.coef_))\n",
    "\n",
    "#check\n",
    "\n",
    "BikeLRparams"
   ]
  },
  {
   "cell_type": "markdown",
   "metadata": {},
   "source": [
    "#### 2.4 For the Lasso and Ridge Regression models list the features that are assigned a coefficient value close to 0 ..."
   ]
  },
  {
   "cell_type": "code",
   "execution_count": 328,
   "metadata": {},
   "outputs": [
    {
     "name": "stdout",
     "output_type": "stream",
     "text": [
      "Ridge Model features that have coeff close to 0 are: {}\n",
      "------\n",
      "Lasso Model features that have coeff close to 0 are: {'Mon': -0.0}\n"
     ]
    }
   ],
   "source": [
    "RidgeFeatures = {k: v for k, v in BikeRRparams.items() if abs(v) <= 0.1}\n",
    "print('Ridge Model features that have coeff close to 0 are:', RidgeFeatures)\n",
    "\n",
    "print('------')\n",
    "\n",
    "LassoFeatures = {k: v for k, v in BikeLRparams.items() if abs(v) <= 0.1}\n",
    "print('Lasso Model features that have coeff close to 0 are:', LassoFeatures)"
   ]
  },
  {
   "cell_type": "markdown",
   "metadata": {},
   "source": [
    "In HW3 Q5, the redundant predictors that we found were temp and atemp, since they had a high correlation value. In this case, they did not match what we found using Lasso and Ridge. Ridge found no features. Lasso only found  one feature, Monday. "
   ]
  },
  {
   "cell_type": "markdown",
   "metadata": {},
   "source": [
    "#### 2.5 To get a visual sense of how the features different regression models (Multiple Linear Regression, Ridge Regression, Lasso Regression) estimate coefficients, order the features by magnitude of the estimated coefficients in the Multiple Linear Regression Model (no shrinkage)."
   ]
  },
  {
   "cell_type": "code",
   "execution_count": 479,
   "metadata": {
    "scrolled": false
   },
   "outputs": [
    {
     "name": "stdout",
     "output_type": "stream",
     "text": [
      "(ALL VALUES ARE POSITIVE, PLOT SHOWS NEGATIVE TO MAKE IT EASIER TO DISPLAY)\n"
     ]
    },
    {
     "data": {
      "image/png": "[encoded data removed]",
      "text/plain": [
       "<Figure size 1440x720 with 1 Axes>"
      ]
     },
     "metadata": {},
     "output_type": "display_data"
    }
   ],
   "source": [
    "index = BikeOLSparams.keys()\n",
    "\n",
    "rows = abs(BikeOLSModel.coef_)\n",
    "rows2 = -abs(LassoCV_object.coef_)\n",
    "rows3 = -abs(ridgeCV_object.coef_)\n",
    "df = pd.DataFrame({'MultiLinReg': rows, 'Lasso Reg': rows2, 'Ridge Reg': rows3}, index=index)\n",
    "\n",
    "# descending order\n",
    "df = df.sort_values('MultiLinReg')\n",
    "\n",
    "ax = df.sort_index(ascending=False).plot.bar(figsize=(20,10))\n",
    "ax.set_xlabel(\"Features\", fontsize=22)\n",
    "ax.set_title('Alpha values:     Lasso = 0.005        Ridge = 500', fontsize=22)\n",
    "ax.set_ylabel(\"Coeff Magnitude\", fontsize=22)\n",
    "ax.tick_params(labelsize=20)\n",
    "plt.suptitle('Coeffs from Three Different Reg Models', fontsize=25);\n",
    "print('(ALL VALUES ARE POSITIVE, PLOT SHOWS NEGATIVE TO MAKE IT EASIER TO DISPLAY)')"
   ]
  },
  {
   "cell_type": "markdown",
   "metadata": {},
   "source": [
    "#### 2.6 Let's examine a pair of features we believe to be related.  Is there a difference in the way Ridge and Lasso regression assign coefficients ...v"
   ]
  },
  {
   "cell_type": "code",
   "execution_count": 460,
   "metadata": {},
   "outputs": [
    {
     "name": "stdout",
     "output_type": "stream",
     "text": [
      "Ridge temp, atemp: 38.45620843577421 30.384088629049405\n",
      "Lasso temp, atemp: 63.830861928234604 12.86839725489356\n"
     ]
    }
   ],
   "source": [
    "print('Ridge temp, atemp:', BikeRRparams['temp'], BikeRRparams['atemp'] )\n",
    "print('Lasso temp, atemp:', BikeLRparams['temp'], BikeLRparams['atemp'] )"
   ]
  },
  {
   "cell_type": "markdown",
   "metadata": {},
   "source": [
    "Looking at the printed aboves abobe, there is a stark differnce in the way Ridge and Lasso regression assign coefficients to predictors. For example, Ridge does not actually zero out coefficients and Lasso uses both variable selection and paramter shrinkage. This is why the temp value is very large and the atemp value from Lasso is very small. Due to the way the alogrhitm works, one values gets inflated and one shrinks down due to the paramter shrinkage. Ridge uses the parameter alpha/L2, which defines regularization strength. For Lasso, it uses lambda/L1. Lasso can set coefficients to zero, while ridge, cannot. This is because of the change of the constraint boundaries in the two cases. Lasso uses a \"cross-polytope\" to predict coefficients, whereas Ridge uses \"n-sphere\" to do the same, therefore they might look similar, but due to the difference in the shapes of the constraint boundaries, different coeffs are predicted. Lasso also looks at the absoulete values and finds points at the angle. \n",
    "\n",
    "#resources: https://stats.stackexchange.com/questions/866/when-should-i-use-lasso-vs-ridge\n",
    "#https://stats.stackexchange.com/questions/251708/when-to-use-ridge-regression-and-lasso-regression-what-can-be-achieved-while-us\n",
    "#https://en.wikipedia.org/wiki/Lasso_(statistics)\n"
   ]
  },
  {
   "cell_type": "markdown",
   "metadata": {},
   "source": [
    "#### 2.7.1 How do the estimated coefficients compare to or differ from ..."
   ]
  },
  {
   "cell_type": "markdown",
   "metadata": {},
   "source": [
    "Lasso compared favorably to the coefficents estimated by the plain linear regression in Q1. Looking at the graph in 2.5, we can see that the coeff magnitude differences between the plain linreg model and Lasso was very little for most of the features. There was only one feature, Storm, where linreg produced a drastically different value from Lasso. Ridge did not compare to the regular linreg. Outside of a few features, most of the magnitudes of the coeffs were drastically different. For example, for Jul, linreg produced a value of ~87 or so, whereas Ridge produced a value of ~30. SAme goes for April. Linreg gave us ~40, whereas Ridge gave us a value close to ~5. "
   ]
  },
  {
   "cell_type": "markdown",
   "metadata": {},
   "source": [
    "#### 2.7.2 Is there a difference between coefficients estimated by the two shrinkage methods ..."
   ]
  },
  {
   "cell_type": "markdown",
   "metadata": {},
   "source": [
    "For some of the parameters, yes, there is a significant difference between the Lasso and Ridge shrinkage methods. For example, July, Ridge predicts around 30, whereas Lasso predicts around 85. The shape of their constraint boundaires is different. More speicifcally, Lasso uses a \"cross-polytope\" to predict coefficients, whereas Ridge uses \"n-sphere\". This is due to what I said above in 2.6. Due to this, there can be a difference between the estimations between the two shrinkage methods. Just looking at the differneces between temp/atemp (in 2.6) shows this. Ridge provides values are more more consistent with each other, whereas due to the shrinkage, Lasso can \"balloon\" some values and \"deflate\" others."
   ]
  },
  {
   "cell_type": "markdown",
   "metadata": {},
   "source": [
    "#### 2.7.3 Is the significance related to the shrinkage in some way?"
   ]
  },
  {
   "cell_type": "markdown",
   "metadata": {},
   "source": [
    "Yes, as I said above in 2.6 and in 2.7.2, the significance is related to the shrinkage, more specifically, the two different shapes of the boundary constraints of L1/alpha and L2/lambda."
   ]
  },
  {
   "cell_type": "markdown",
   "metadata": {},
   "source": [
    "<div class='exercise'> <b> Question 3: Polynomial Features, Interaction Terms, and Cross Validation </b> </div>\n"
   ]
  },
  {
   "cell_type": "markdown",
   "metadata": {},
   "source": [
    "We would like to fit a model to include all main effects and polynomial terms for numerical predictors up to the $4^{th}$ order. More precisely use the following terms: \n",
    " - predictors in `X_train` and `X_test`\n",
    " - $X^1_j$, $X^2_j$, $X^3_j$, and $X^4_j$ for each numerical predictor $X_j$\n",
    "\n",
    "**3.1** Create an expanded training set including all the desired terms mentioned above. Store that training set (as a pandas dataframe) in the variable `X_train_poly`.  Create the corresponding test set and store it as a pandas dataframe in `X_test_poly`.\n",
    "\n",
    "**3.2** Discuss the following:\n",
    "\n",
    "1. What are the dimensions of this 'design matrix' of all the predictor variables in 3.1?  \n",
    "2. What issues may we run into attempting to fit a regression model using all of these predictors?\n",
    "\n",
    "**3.3** Let's try fitting a regression model on all the predictors anyway.  Use the `LinearRegression` library from `sklearn` to fit a multiple linear regression model to the training set data in `X_train_poly`.  Store the fitted model in the variable `BikeOLSPolyModel`.\n",
    "\n",
    "**3.4** Discuss the following:\n",
    "1. What are the training and test $R^2$ scores? \n",
    "2. How does the model performance compare with the OLS model on the original set of features in Question 1?\n",
    "\n",
    "**3.5** The training set $R^2$ score we generated for our model with polynomial and interaction terms doesn't have any error bars.  Let's use cross-validation to generate sample sets of $R^2$ for our model. Use 5-fold cross-validation to generate $R^2$ scores for the multiple linear regression model with polynomial terms.  What are the mean and standard deviation of the $R^2$ scores for your model.\n",
    "\n",
    "**3.6** Visualize the $R^2$ scores generated from the 5-fold cross validation as a box and whisker plot.\n",
    "\n",
    "**3.7** We've used cross-validation to generate error bars around our $R^2$ scores, but another use of cross-validation is as a way of model selection.  Let's construct the following model alternatives:\n",
    "\n",
    "1. Multiple linear regression model generated based upon the feature set in Question 1 (let's call these the base features.\n",
    "2. base features plus polynomial features to order 2\n",
    "3. base features plus polynomial features to order 4\n",
    "\n",
    "Use 5-fold cross validation on the training set to select the best model.  Make sure to evaluate all the models as much as possible on the same folds.  For each model generate a mean and standard deviation for the $R^2$ score.\n",
    "\n",
    "**3.8** Visualize the $R^2$ scores generated for each model from 5-fold cross validation in box and whiskers plots.  Do the box and whisker plots influence your view of which model was best?\n",
    "\n",
    "**3.9** Evaluate each of the model alternatives on the test set.  How do the results compare with the results from cross-validation?"
   ]
  },
  {
   "cell_type": "markdown",
   "metadata": {},
   "source": [
    "### Answers"
   ]
  },
  {
   "cell_type": "markdown",
   "metadata": {},
   "source": [
    "#### 3.1 Create an expanded training set including all the desired terms mentioned above. Store that training set (as a numpy array) in the variable `X_train_poly`...."
   ]
  },
  {
   "cell_type": "code",
   "execution_count": 480,
   "metadata": {
    "scrolled": true
   },
   "outputs": [
    {
     "data": {
      "text/html": [
       "<div>\n",
       "<style scoped>\n",
       "    .dataframe tbody tr th:only-of-type {\n",
       "        vertical-align: middle;\n",
       "    }\n",
       "\n",
       "    .dataframe tbody tr th {\n",
       "        vertical-align: top;\n",
       "    }\n",
       "\n",
       "    .dataframe thead th {\n",
       "        text-align: right;\n",
       "    }\n",
       "</style>\n",
       "<table border=\"1\" class=\"dataframe\">\n",
       "  <thead>\n",
       "    <tr style=\"text-align: right;\">\n",
       "      <th></th>\n",
       "      <th>hour</th>\n",
       "      <th>holiday</th>\n",
       "      <th>year</th>\n",
       "      <th>workingday</th>\n",
       "      <th>temp</th>\n",
       "      <th>atemp</th>\n",
       "      <th>hum</th>\n",
       "      <th>windspeed</th>\n",
       "      <th>spring</th>\n",
       "      <th>summer</th>\n",
       "      <th>...</th>\n",
       "      <th>temp^4</th>\n",
       "      <th>atemp^2</th>\n",
       "      <th>atemp^3</th>\n",
       "      <th>atemp^4</th>\n",
       "      <th>hum^2</th>\n",
       "      <th>hum^3</th>\n",
       "      <th>hum^4</th>\n",
       "      <th>windspeed^2</th>\n",
       "      <th>windspeed^3</th>\n",
       "      <th>windspeed^4</th>\n",
       "    </tr>\n",
       "  </thead>\n",
       "  <tbody>\n",
       "    <tr>\n",
       "      <th>0</th>\n",
       "      <td>6</td>\n",
       "      <td>0</td>\n",
       "      <td>0</td>\n",
       "      <td>0</td>\n",
       "      <td>-1.436131</td>\n",
       "      <td>-1.179015</td>\n",
       "      <td>0.885320</td>\n",
       "      <td>-1.557515</td>\n",
       "      <td>0</td>\n",
       "      <td>0</td>\n",
       "      <td>...</td>\n",
       "      <td>0.550735</td>\n",
       "      <td>0.363342</td>\n",
       "      <td>-0.607571</td>\n",
       "      <td>-0.048217</td>\n",
       "      <td>-0.198713</td>\n",
       "      <td>0.301867</td>\n",
       "      <td>-0.280943</td>\n",
       "      <td>0.884560</td>\n",
       "      <td>-0.810236</td>\n",
       "      <td>0.113435</td>\n",
       "    </tr>\n",
       "    <tr>\n",
       "      <th>1</th>\n",
       "      <td>9</td>\n",
       "      <td>0</td>\n",
       "      <td>0</td>\n",
       "      <td>0</td>\n",
       "      <td>-0.917170</td>\n",
       "      <td>-0.738176</td>\n",
       "      <td>0.678165</td>\n",
       "      <td>-1.557515</td>\n",
       "      <td>0</td>\n",
       "      <td>0</td>\n",
       "      <td>...</td>\n",
       "      <td>-0.337517</td>\n",
       "      <td>-0.423905</td>\n",
       "      <td>-0.124741</td>\n",
       "      <td>-0.406221</td>\n",
       "      <td>-0.496386</td>\n",
       "      <td>0.159758</td>\n",
       "      <td>-0.353046</td>\n",
       "      <td>0.884560</td>\n",
       "      <td>-0.810236</td>\n",
       "      <td>0.113435</td>\n",
       "    </tr>\n",
       "    <tr>\n",
       "      <th>2</th>\n",
       "      <td>20</td>\n",
       "      <td>0</td>\n",
       "      <td>0</td>\n",
       "      <td>0</td>\n",
       "      <td>-0.502000</td>\n",
       "      <td>-0.385738</td>\n",
       "      <td>1.247840</td>\n",
       "      <td>0.521907</td>\n",
       "      <td>0</td>\n",
       "      <td>0</td>\n",
       "      <td>...</td>\n",
       "      <td>-0.498855</td>\n",
       "      <td>-0.792867</td>\n",
       "      <td>0.009892</td>\n",
       "      <td>-0.466374</td>\n",
       "      <td>0.512022</td>\n",
       "      <td>0.766539</td>\n",
       "      <td>0.043090</td>\n",
       "      <td>-0.451391</td>\n",
       "      <td>-0.080324</td>\n",
       "      <td>-0.174841</td>\n",
       "    </tr>\n",
       "    <tr>\n",
       "      <th>3</th>\n",
       "      <td>10</td>\n",
       "      <td>0</td>\n",
       "      <td>0</td>\n",
       "      <td>0</td>\n",
       "      <td>-0.709585</td>\n",
       "      <td>-0.738176</td>\n",
       "      <td>0.937108</td>\n",
       "      <td>0.277655</td>\n",
       "      <td>0</td>\n",
       "      <td>0</td>\n",
       "      <td>...</td>\n",
       "      <td>-0.451260</td>\n",
       "      <td>-0.423905</td>\n",
       "      <td>-0.124741</td>\n",
       "      <td>-0.406221</td>\n",
       "      <td>-0.111969</td>\n",
       "      <td>0.349869</td>\n",
       "      <td>-0.252866</td>\n",
       "      <td>-0.572546</td>\n",
       "      <td>-0.102806</td>\n",
       "      <td>-0.178227</td>\n",
       "    </tr>\n",
       "    <tr>\n",
       "      <th>4</th>\n",
       "      <td>12</td>\n",
       "      <td>0</td>\n",
       "      <td>0</td>\n",
       "      <td>0</td>\n",
       "      <td>-0.709585</td>\n",
       "      <td>-0.826577</td>\n",
       "      <td>0.160279</td>\n",
       "      <td>0.889105</td>\n",
       "      <td>0</td>\n",
       "      <td>0</td>\n",
       "      <td>...</td>\n",
       "      <td>-0.451260</td>\n",
       "      <td>-0.295061</td>\n",
       "      <td>-0.188187</td>\n",
       "      <td>-0.369033</td>\n",
       "      <td>-0.895467</td>\n",
       "      <td>0.045265</td>\n",
       "      <td>-0.390789</td>\n",
       "      <td>-0.129963</td>\n",
       "      <td>0.024064</td>\n",
       "      <td>-0.147519</td>\n",
       "    </tr>\n",
       "  </tbody>\n",
       "</table>\n",
       "<p>5 rows × 43 columns</p>\n",
       "</div>"
      ],
      "text/plain": [
       "   hour  holiday  year  workingday      temp     atemp       hum  windspeed  \\\n",
       "0     6        0     0           0 -1.436131 -1.179015  0.885320  -1.557515   \n",
       "1     9        0     0           0 -0.917170 -0.738176  0.678165  -1.557515   \n",
       "2    20        0     0           0 -0.502000 -0.385738  1.247840   0.521907   \n",
       "3    10        0     0           0 -0.709585 -0.738176  0.937108   0.277655   \n",
       "4    12        0     0           0 -0.709585 -0.826577  0.160279   0.889105   \n",
       "\n",
       "   spring  summer     ...         temp^4   atemp^2   atemp^3   atemp^4  \\\n",
       "0       0       0     ...       0.550735  0.363342 -0.607571 -0.048217   \n",
       "1       0       0     ...      -0.337517 -0.423905 -0.124741 -0.406221   \n",
       "2       0       0     ...      -0.498855 -0.792867  0.009892 -0.466374   \n",
       "3       0       0     ...      -0.451260 -0.423905 -0.124741 -0.406221   \n",
       "4       0       0     ...      -0.451260 -0.295061 -0.188187 -0.369033   \n",
       "\n",
       "      hum^2     hum^3     hum^4  windspeed^2  windspeed^3  windspeed^4  \n",
       "0 -0.198713  0.301867 -0.280943     0.884560    -0.810236     0.113435  \n",
       "1 -0.496386  0.159758 -0.353046     0.884560    -0.810236     0.113435  \n",
       "2  0.512022  0.766539  0.043090    -0.451391    -0.080324    -0.174841  \n",
       "3 -0.111969  0.349869 -0.252866    -0.572546    -0.102806    -0.178227  \n",
       "4 -0.895467  0.045265 -0.390789    -0.129963     0.024064    -0.147519  \n",
       "\n",
       "[5 rows x 43 columns]"
      ]
     },
     "execution_count": 480,
     "metadata": {},
     "output_type": "execute_result"
    }
   ],
   "source": [
    "# Code from HW3\n",
    "\n",
    "def gen_higher_order_features(df, feature_column, k):\n",
    "    \n",
    "    poly_model = PolynomialFeatures(k, include_bias=False)\n",
    "    \n",
    "    feature_data = df[feature_column]\n",
    "    \n",
    "    # transform to get all the polynomial features of this column\n",
    "    higher_orders = poly_model.fit_transform(feature_data.values.reshape(-1,1))\n",
    "    \n",
    "    feature_names = poly_model.get_feature_names([feature_column])\n",
    "\n",
    "    return pd.DataFrame(higher_orders[:,1:], columns = feature_names[1:])\n",
    "\n",
    "continuous_columns = ['temp', 'atemp', 'hum', 'windspeed']\n",
    "\n",
    "higher_orders_train =[gen_higher_order_features(X_train, feature, 4) for feature in continuous_columns]\n",
    "higher_orders_test = [gen_higher_order_features(X_test, feature, 4) for feature in continuous_columns]\n",
    "\n",
    "higher_orders_train = pd.concat(higher_orders_train, axis=1)\n",
    "higher_orders_test = pd.concat(higher_orders_test, axis=1)\n",
    "\n",
    "higher_orders_columns = higher_orders_train.columns\n",
    "\n",
    "# standardize higher order polynomial features\n",
    "scaler = StandardScaler().fit(higher_orders_train)\n",
    "\n",
    "higher_orders_train[higher_orders_columns] = scaler.transform(higher_orders_train)\n",
    "higher_orders_test[higher_orders_columns] = scaler.transform(higher_orders_test)\n",
    "\n",
    "# had to reset index or it kept inputting NaN values!\n",
    "X_train.reset_index(drop=True, inplace=True)\n",
    "X_test.reset_index(drop=True, inplace=True)\n",
    "\n",
    "X_train_poly = pd.concat([X_train, higher_orders_train], axis=1)\n",
    "X_test_poly = pd.concat([X_test, higher_orders_test], axis=1)\n",
    "\n",
    "X_test_poly.head()\n",
    "\n",
    "# https://stackoverflow.com/questions/40339886/pandas-concat-generates-nan-values"
   ]
  },
  {
   "cell_type": "markdown",
   "metadata": {},
   "source": [
    "#### 3.2.1 What are the dimensions of this 'design matrix'...**"
   ]
  },
  {
   "cell_type": "code",
   "execution_count": 481,
   "metadata": {},
   "outputs": [
    {
     "data": {
      "text/plain": [
       "(13903, 43)"
      ]
     },
     "execution_count": 481,
     "metadata": {},
     "output_type": "execute_result"
    }
   ],
   "source": [
    "X_train_poly.shape"
   ]
  },
  {
   "cell_type": "markdown",
   "metadata": {},
   "source": [
    "Shape of the design matrix is 13903 rows by 43 columns."
   ]
  },
  {
   "cell_type": "markdown",
   "metadata": {},
   "source": [
    "#### 3.2.2 What issues may we run into attempting to fit a regression model using all of these predictors? ...**"
   ]
  },
  {
   "cell_type": "markdown",
   "metadata": {},
   "source": [
    "Fitting all of these predictors leads to \"curse of dimensionality\". This means that the training time grows exponentially. For example, if we tried to make a regression model with all features (with poly terms up to an order of 4), a \"normal\" computer would probably not be able to compute the sklearn linear regression algoritm. The design matrix would be far too large to be able to compute the fit efficiently. "
   ]
  },
  {
   "cell_type": "markdown",
   "metadata": {},
   "source": [
    "#### 3.3 Let's try fitting a regression model on all the predictors anyway.  Use the `LinearRegression` library from `sklearn` to fit a multiple linear regression model ...."
   ]
  },
  {
   "cell_type": "code",
   "execution_count": 482,
   "metadata": {},
   "outputs": [],
   "source": [
    "linreg = LinearRegression()\n",
    "\n",
    "BikeOLSPolyModel = linreg.fit(X_train_poly, y_train)"
   ]
  },
  {
   "cell_type": "markdown",
   "metadata": {},
   "source": [
    "#### 3.4.1 What are the training and test $R^2$ scores?"
   ]
  },
  {
   "cell_type": "code",
   "execution_count": 483,
   "metadata": {},
   "outputs": [
    {
     "name": "stdout",
     "output_type": "stream",
     "text": [
      "R2 for training set: 0.42230805166587093\n",
      "R2 for testing set: 0.42027912762252395\n"
     ]
    }
   ],
   "source": [
    "BikeOLSPolyModel.predict(X_train_poly)\n",
    "\n",
    "polyr2train = r2_score(y_train, BikeOLSPolyModel.predict(X_train_poly))\n",
    "polyr2test = r2_score(y_test, BikeOLSPolyModel.predict(X_test_poly))\n",
    "\n",
    "print('R2 for training set:', polyr2train)\n",
    "print('R2 for testing set:', polyr2test)"
   ]
  },
  {
   "cell_type": "markdown",
   "metadata": {},
   "source": [
    "#### 3.4.2 How does the model performance compare with the OLS model on the original set of features in Question 1?"
   ]
  },
  {
   "cell_type": "code",
   "execution_count": 484,
   "metadata": {},
   "outputs": [
    {
     "name": "stdout",
     "output_type": "stream",
     "text": [
      "           OLS from Question 1 | Poly Regresstion Model\n",
      "R2 (train): 0.4065387827969087 | 0.42230805166587093\n",
      "R2 (test): 0.40638554757102263 | 0.42027912762252395\n"
     ]
    }
   ],
   "source": [
    "print('           OLS from Question 1 | Poly Regresstion Model')\n",
    "print('R2 (train):', r2train, '|' , polyr2train)\n",
    "print('R2 (test):', r2test, '|' , polyr2test)"
   ]
  },
  {
   "cell_type": "markdown",
   "metadata": {},
   "source": [
    "The polynomical regression model shows a slightl improvement for both training and testing set versus the OLSModel from Question1. For example, the R2 value for the training set went from 0.406 to 0.4223. This represents a pretty good improvement in model performance."
   ]
  },
  {
   "cell_type": "markdown",
   "metadata": {},
   "source": [
    "#### 3.5 The training set $R^2$ score we generated for our model with polynomial and interaction terms doesn't have any error bars.  Let's use cross-validation to generate sample..."
   ]
  },
  {
   "cell_type": "code",
   "execution_count": 487,
   "metadata": {},
   "outputs": [
    {
     "name": "stdout",
     "output_type": "stream",
     "text": [
      "R2 scores: [0.44969585 0.39806258 0.4052678  0.42502773 0.41479757]\n",
      "Std dev of R2 scores: 0.018012522649881575\n",
      "Mean R2 score: 0.4185703055737381\n"
     ]
    }
   ],
   "source": [
    "splitter = KFold(5, random_state=42, shuffle=True)\n",
    "lr_object =  BikeOLSPolyModel\n",
    "scores = cross_val_score(lr_object, X_train_poly, y_train, cv=splitter)\n",
    "\n",
    "print('R2 scores:', scores)\n",
    "print('Std dev of R2 scores:', np.std(scores))\n",
    "print('Mean R2 score:', np.mean(scores))"
   ]
  },
  {
   "cell_type": "markdown",
   "metadata": {},
   "source": [
    "#### 3.6 Visualize the $R^2$ scores generated from the 5-fold cross validation as a box and whisker plot."
   ]
  },
  {
   "cell_type": "code",
   "execution_count": 486,
   "metadata": {},
   "outputs": [
    {
     "data": {
      "image/png": "[encoded data removed]",
      "text/plain": [
       "<Figure size 504x504 with 1 Axes>"
      ]
     },
     "metadata": {},
     "output_type": "display_data"
    }
   ],
   "source": [
    "# Create a figure instance\n",
    "fig = plt.figure(1, figsize=(7, 7))\n",
    "\n",
    "# Create an axes instance\n",
    "ax = fig.add_subplot(111)\n",
    "\n",
    "# Create the boxplot\n",
    "bp = ax.boxplot(scores, patch_artist=True)\n",
    "\n",
    "ax.set_xticklabels([''])\n",
    "ax.set_ylabel('R2 Scores', fontsize=17);\n",
    "\n",
    "for box in bp['boxes']:\n",
    "    # change outline color\n",
    "    box.set( color='#7570b3', linewidth=2)\n",
    "    # change fill color\n",
    "    box.set( facecolor = '#1b9e77' )\n",
    "\n",
    "## change color and linewidth of the whiskers\n",
    "for whisker in bp['whiskers']:\n",
    "    whisker.set(color='#7570b3', linewidth=2)\n",
    "    \n",
    "    ## change color and linewidth of the caps\n",
    "for cap in bp['caps']:\n",
    "    cap.set(color='#7570b3', linewidth=2)\n",
    "\n",
    "## change color and linewidth of the medians\n",
    "for median in bp['medians']:\n",
    "    median.set(color='#b2df8a', linewidth=2)\n",
    "\n",
    "## change the style of fliers and their fill\n",
    "for flier in bp['fliers']:\n",
    "    flier.set(marker='o', color='#e7298a', alpha=0.5)\n",
    "\n",
    "fig.suptitle('R2 Scores Generated from 5-fold CV on Poly Model', fontsize=20);\n",
    "\n",
    "# USED CODE FROM HERE TO GRAPH PLOT: http://blog.bharatbhole.com/creating-boxplots-with-matplotlib/"
   ]
  },
  {
   "cell_type": "markdown",
   "metadata": {},
   "source": [
    "#### 3.7 We've used cross-validation to generate error bars around our $R^2$ scores, but another use of cross-validation is as a way of model selection.  Let's construct the following model alternatives ..."
   ]
  },
  {
   "cell_type": "code",
   "execution_count": 488,
   "metadata": {},
   "outputs": [
    {
     "name": "stdout",
     "output_type": "stream",
     "text": [
      "------\n",
      "3.7.1: Multiple linreg generated upon feature set in Q1\n",
      "------\n",
      "R2 scores: [0.43367239 0.38407911 0.39334667 0.4075238  0.39970051]\n",
      "Std dev of R2 scores: 0.016858979941951922\n",
      "Mean R2 score: 0.40366449677749683\n",
      "------\n",
      "3.7.2: Base features plus poly to order 2\n",
      "------\n",
      "R2 scores: [0.44124112 0.3854012  0.39568835 0.4134964  0.40661133]\n",
      "Std dev of R2 scores: 0.01896419980244762\n",
      "Mean R2 score: 0.40848768150935716\n",
      "------\n",
      "3.7.3: Base features plus poly to order 4\n",
      "------\n",
      "R2 scores: [0.44969585 0.39806258 0.4052678  0.42502773 0.41479757]\n",
      "Std dev of R2 scores: 0.018012522649881575\n",
      "Mean R2 score: 0.4185703055737381\n",
      "------\n"
     ]
    }
   ],
   "source": [
    "splitter = KFold(5, random_state=42, shuffle=True)\n",
    "\n",
    "# 3.7.1\n",
    "\n",
    "lr_object =  BikeOLSModel\n",
    "scores1 = cross_val_score(lr_object, X_train, y_train, cv=splitter)\n",
    "\n",
    "print('------')\n",
    "print('3.7.1: Multiple linreg generated upon feature set in Q1')\n",
    "print('------')\n",
    "print('R2 scores:', scores1)\n",
    "print('Std dev of R2 scores:', np.std(scores1))\n",
    "print('Mean R2 score:', np.mean(scores1))\n",
    "print('------')\n",
    "\n",
    "# 3.7.2\n",
    "\n",
    "continuous_columns = ['temp', 'atemp', 'hum', 'windspeed']\n",
    "\n",
    "higher_orders_train =[gen_higher_order_features(X_train, feature, 2) for feature in continuous_columns]\n",
    "higher_orders_test = [gen_higher_order_features(X_test, feature, 2) for feature in continuous_columns]\n",
    "\n",
    "higher_orders_train = pd.concat(higher_orders_train, axis=1)\n",
    "higher_orders_test = pd.concat(higher_orders_test, axis=1)\n",
    "\n",
    "higher_orders_columns = higher_orders_train.columns\n",
    "\n",
    "scaler = StandardScaler().fit(higher_orders_train)\n",
    "\n",
    "higher_orders_train[higher_orders_columns] = scaler.transform(higher_orders_train)\n",
    "higher_orders_test[higher_orders_columns] = scaler.transform(higher_orders_test)\n",
    "\n",
    "X_train.reset_index(drop=True, inplace=True)\n",
    "X_test.reset_index(drop=True, inplace=True)\n",
    "\n",
    "X_train_poly1 = pd.concat([X_train, higher_orders_train], axis=1)\n",
    "X_test_poly1 = pd.concat([X_test, higher_orders_test], axis=1)\n",
    "\n",
    "lr_object1 =  LinearRegression()\n",
    "scores2 = cross_val_score(lr_object1, X_train_poly1, y_train, cv=splitter)\n",
    "\n",
    "print('3.7.2: Base features plus poly to order 2')\n",
    "print('------')\n",
    "print('R2 scores:', scores2)\n",
    "print('Std dev of R2 scores:', np.std(scores2))\n",
    "print('Mean R2 score:', np.mean(scores2))\n",
    "print('------')\n",
    "\n",
    "# 3.7.3\n",
    "\n",
    "higher_orders_train =[gen_higher_order_features(X_train, feature, 4) for feature in continuous_columns]\n",
    "higher_orders_test = [gen_higher_order_features(X_test, feature, 4) for feature in continuous_columns]\n",
    "\n",
    "higher_orders_train = pd.concat(higher_orders_train, axis=1)\n",
    "higher_orders_test = pd.concat(higher_orders_test, axis=1)\n",
    "\n",
    "higher_orders_columns = higher_orders_train.columns\n",
    "\n",
    "scaler = StandardScaler().fit(higher_orders_train)\n",
    "\n",
    "higher_orders_train[higher_orders_columns] = scaler.transform(higher_orders_train)\n",
    "higher_orders_test[higher_orders_columns] = scaler.transform(higher_orders_test)\n",
    "\n",
    "X_train.reset_index(drop=True, inplace=True)\n",
    "X_test.reset_index(drop=True, inplace=True)\n",
    "\n",
    "X_train_poly2 = pd.concat([X_train, higher_orders_train], axis=1)\n",
    "X_test_poly2 = pd.concat([X_test, higher_orders_test], axis=1)\n",
    "\n",
    "scores3 = cross_val_score(lr_object1, X_train_poly2, y_train, cv=splitter)\n",
    "\n",
    "print('3.7.3: Base features plus poly to order 4')\n",
    "print('------')\n",
    "print('R2 scores:', scores3)\n",
    "print('Std dev of R2 scores:', np.std(scores3))\n",
    "print('Mean R2 score:', np.mean(scores3))\n",
    "print('------')\n"
   ]
  },
  {
   "cell_type": "markdown",
   "metadata": {},
   "source": [
    "#### 3.8 Visualize the $R^2$ scores generated for each model from 5-fold cross validation in box and whiskers plots.  Do the box and whisker plots influence your view of which model was best? ..."
   ]
  },
  {
   "cell_type": "code",
   "execution_count": 493,
   "metadata": {},
   "outputs": [
    {
     "data": {
      "image/png": "[encoded data removed]",
      "text/plain": [
       "<Figure size 720x720 with 1 Axes>"
      ]
     },
     "metadata": {},
     "output_type": "display_data"
    }
   ],
   "source": [
    "data_to_plot = [scores1, scores2, scores3]\n",
    "\n",
    "fig = plt.figure(1, figsize=(10, 10))\n",
    "ax = fig.add_subplot(111)\n",
    "bp = ax.boxplot(data_to_plot,patch_artist=True)\n",
    "ax.set_ylabel('R2 Scores', fontsize=17);\n",
    "ax.set_xticklabels(['From Q1', 'Base+Features (order 2)', 'Base+Features (order 4)'])\n",
    "## change color and linewidth of the whiskers\n",
    "for whisker in bp['whiskers']:\n",
    "    whisker.set(color='#7570b3', linewidth=2)\n",
    "    \n",
    "    ## change color and linewidth of the caps\n",
    "for cap in bp['caps']:\n",
    "    cap.set(color='#7570b3', linewidth=2)\n",
    "\n",
    "## change color and linewidth of the medians\n",
    "for median in bp['medians']:\n",
    "    median.set(color='#b2df8a', linewidth=2)\n",
    "\n",
    "## change the style of fliers and their fill\n",
    "for flier in bp['fliers']:\n",
    "    flier.set(marker='o', color='#e7298a', alpha=0.5)\n",
    "ax.tick_params(labelsize=15)\n",
    "fig.suptitle('R2 scores from Three Different Models (Training Set)', fontsize=20);\n",
    "\n",
    "# USED CODE FROM HERE TO GRAPH PLOT: http://blog.bharatbhole.com/creating-boxplots-with-matplotlib/"
   ]
  },
  {
   "cell_type": "markdown",
   "metadata": {},
   "source": [
    "In my opinion, yes, the box/whisker plot does influence my view on which model was best. For example, the highest R2 score was produced by the third model (base features + poly to order 4). The height of the box shows the distribution of R2 values (standard dev) and the green line inside the box shows the mean R2 score for that model. In this case, the model with the smallest std dev was model 1 from Q1, but it did produce a lower R2 score than the best model, which was the third one."
   ]
  },
  {
   "cell_type": "markdown",
   "metadata": {},
   "source": [
    "#### 3.9 Evaluate each of the model alternatives on the  test set.  How do the results compare with the results from cross-validation?"
   ]
  },
  {
   "cell_type": "code",
   "execution_count": 501,
   "metadata": {},
   "outputs": [
    {
     "name": "stdout",
     "output_type": "stream",
     "text": [
      "------\n",
      "TEST SET\n",
      "3.9.1: Multiple linreg generated upon feature set in Q1:\n",
      "R2 scores: 0.40638554757102263\n",
      "------\n",
      "3.9.2: Base + Features (Order 2):\n",
      "R2 scores: 0.4107603742280451\n",
      "------\n",
      "3.9.3: Base + Features (Order 4):\n",
      "R2 scores: 0.42027912762252395\n",
      "------\n"
     ]
    }
   ],
   "source": [
    "# 3.9.1\n",
    "\n",
    "print('------')\n",
    "print('TEST SET')\n",
    "print('3.9.1: Multiple linreg generated upon feature set in Q1:')\n",
    "print('R2 scores:', BikeOLSModel.score(X_test, y_test))\n",
    "print('------')\n",
    "\n",
    "# 3.9.2\n",
    "\n",
    "linreg = LinearRegression()\n",
    "BikeOLSPoly2Model = linreg.fit(X_train_poly1, y_train)\n",
    "print('3.9.2: Base + Features (Order 2):')\n",
    "print('R2 scores:', BikeOLSPoly2Model.score(X_test_poly1, y_test))\n",
    "print('------')\n",
    "\n",
    "# 3.9.3\n",
    "\n",
    "print('3.9.3: Base + Features (Order 4):')\n",
    "print('R2 scores:', BikeOLSPolyModel.score(X_test_poly, y_test))\n",
    "print('------')"
   ]
  },
  {
   "cell_type": "markdown",
   "metadata": {},
   "source": [
    "Model 1, Multiple Line Reg\n",
    "\n",
    "The test R2 score from the model was higher than the mean R2 score from cross validation, however it was within one standard deviation, therefore very good.\n",
    "\n",
    "Model 2, base features plus poly terms to order 2\n",
    "\n",
    "Test R2 score, again, was higher than the mean R2 score from 5-fold CV, however it was within 1 standard deviations of the mean, so it compared very well again.\n",
    "\n",
    "Model 3, base features plus poly terms to order 4\n",
    "\n",
    "This model produced the best results for both the test and training R2 values. The test R2 value was very very close to the mean R2 score from the 5-fold CV. Under one standard deviation apart.\n",
    "\n",
    "Therefore, Model 3 produced the best values with base features plus poly terms to order 4!"
   ]
  },
  {
   "cell_type": "code",
   "execution_count": null,
   "metadata": {},
   "outputs": [],
   "source": []
  }
 ],
 "metadata": {
  "anaconda-cloud": {},
  "kernelspec": {
   "display_name": "Python 3",
   "language": "python",
   "name": "python3"
  },
  "language_info": {
   "codemirror_mode": {
    "name": "ipython",
    "version": 3
   },
   "file_extension": ".py",
   "mimetype": "text/x-python",
   "name": "python",
   "nbconvert_exporter": "python",
   "pygments_lexer": "ipython3",
   "version": "3.6.5"
  }
 },
 "nbformat": 4,
 "nbformat_minor": 2
}

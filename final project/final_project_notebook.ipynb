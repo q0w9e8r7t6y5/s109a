{
 "cells": [
  {
   "cell_type": "code",
   "execution_count": 22,
   "metadata": {},
   "outputs": [],
   "source": [
    "# libraries\n",
    "\n",
    "import numpy as np\n",
    "import pandas as pd\n",
    "import matplotlib\n",
    "import matplotlib.pyplot as plt\n",
    "\n",
    "import statsmodels.api as sm\n",
    "from statsmodels.api import OLS\n",
    "\n",
    "from sklearn import preprocessing\n",
    "from sklearn.preprocessing import PolynomialFeatures\n",
    "from sklearn.metrics import r2_score\n",
    "from sklearn.model_selection import train_test_split\n",
    "from sklearn.linear_model import LinearRegression\n",
    "\n",
    "from pandas.plotting import scatter_matrix\n",
    "\n",
    "import seaborn as sns\n",
    "\n",
    "from datetime import datetime\n",
    "\n",
    "%matplotlib inline"
   ]
  },
  {
   "cell_type": "code",
   "execution_count": 23,
   "metadata": {},
   "outputs": [
    {
     "data": {
      "text/html": [
       "<div>\n",
       "<style scoped>\n",
       "    .dataframe tbody tr th:only-of-type {\n",
       "        vertical-align: middle;\n",
       "    }\n",
       "\n",
       "    .dataframe tbody tr th {\n",
       "        vertical-align: top;\n",
       "    }\n",
       "\n",
       "    .dataframe thead th {\n",
       "        text-align: right;\n",
       "    }\n",
       "</style>\n",
       "<table border=\"1\" class=\"dataframe\">\n",
       "  <thead>\n",
       "    <tr style=\"text-align: right;\">\n",
       "      <th></th>\n",
       "      <th>label</th>\n",
       "      <th>count_tweets</th>\n",
       "      <th>count_words</th>\n",
       "      <th>count_truncated</th>\n",
       "      <th>count_in_reply_to_status_id</th>\n",
       "      <th>count_in_reply_to_user_id</th>\n",
       "      <th>count_in_reply_to_screen_name</th>\n",
       "      <th>count_retweeted_status_id</th>\n",
       "      <th>count_place</th>\n",
       "      <th>sum_retweet_count</th>\n",
       "      <th>sum_reply_count</th>\n",
       "      <th>sum_favorite_count</th>\n",
       "      <th>count_favorited</th>\n",
       "      <th>count_retweeted</th>\n",
       "      <th>possibly_sensitive</th>\n",
       "      <th>sum_num_hastags</th>\n",
       "      <th>sum_num_urls</th>\n",
       "      <th>sum_num_mentions</th>\n",
       "      <th>max_created_at</th>\n",
       "      <th>min_created</th>\n",
       "    </tr>\n",
       "    <tr>\n",
       "      <th>user_id</th>\n",
       "      <th></th>\n",
       "      <th></th>\n",
       "      <th></th>\n",
       "      <th></th>\n",
       "      <th></th>\n",
       "      <th></th>\n",
       "      <th></th>\n",
       "      <th></th>\n",
       "      <th></th>\n",
       "      <th></th>\n",
       "      <th></th>\n",
       "      <th></th>\n",
       "      <th></th>\n",
       "      <th></th>\n",
       "      <th></th>\n",
       "      <th></th>\n",
       "      <th></th>\n",
       "      <th></th>\n",
       "      <th></th>\n",
       "      <th></th>\n",
       "    </tr>\n",
       "  </thead>\n",
       "  <tbody>\n",
       "    <tr>\n",
       "      <th>467203615</th>\n",
       "      <td>social_spambots_1</td>\n",
       "      <td>1280</td>\n",
       "      <td>19395</td>\n",
       "      <td>0</td>\n",
       "      <td>0</td>\n",
       "      <td>0</td>\n",
       "      <td>0</td>\n",
       "      <td>4</td>\n",
       "      <td>0</td>\n",
       "      <td>991</td>\n",
       "      <td>0</td>\n",
       "      <td>307</td>\n",
       "      <td>0</td>\n",
       "      <td>0</td>\n",
       "      <td>1240</td>\n",
       "      <td>100</td>\n",
       "      <td>33</td>\n",
       "      <td>4</td>\n",
       "      <td>2014-11-12T22:31:06</td>\n",
       "      <td>2014-05-19T19:55:39</td>\n",
       "    </tr>\n",
       "    <tr>\n",
       "      <th>545309765</th>\n",
       "      <td>social_spambots_1</td>\n",
       "      <td>1280</td>\n",
       "      <td>19305</td>\n",
       "      <td>0</td>\n",
       "      <td>0</td>\n",
       "      <td>0</td>\n",
       "      <td>0</td>\n",
       "      <td>9</td>\n",
       "      <td>0</td>\n",
       "      <td>1709</td>\n",
       "      <td>0</td>\n",
       "      <td>453</td>\n",
       "      <td>0</td>\n",
       "      <td>0</td>\n",
       "      <td>1246</td>\n",
       "      <td>122</td>\n",
       "      <td>25</td>\n",
       "      <td>14</td>\n",
       "      <td>2014-11-13T08:58:07</td>\n",
       "      <td>2014-05-27T10:12:33</td>\n",
       "    </tr>\n",
       "    <tr>\n",
       "      <th>21706899</th>\n",
       "      <td>fake_followers</td>\n",
       "      <td>1</td>\n",
       "      <td>2</td>\n",
       "      <td>0</td>\n",
       "      <td>0</td>\n",
       "      <td>0</td>\n",
       "      <td>0</td>\n",
       "      <td>1</td>\n",
       "      <td>0</td>\n",
       "      <td>0</td>\n",
       "      <td>0</td>\n",
       "      <td>0</td>\n",
       "      <td>0</td>\n",
       "      <td>0</td>\n",
       "      <td>1</td>\n",
       "      <td>0</td>\n",
       "      <td>0</td>\n",
       "      <td>0</td>\n",
       "      <td>2009-02-23T23:26:02</td>\n",
       "      <td>2009-02-23T23:26:02</td>\n",
       "    </tr>\n",
       "    <tr>\n",
       "      <th>34461690</th>\n",
       "      <td>fake_followers</td>\n",
       "      <td>1</td>\n",
       "      <td>5</td>\n",
       "      <td>0</td>\n",
       "      <td>0</td>\n",
       "      <td>0</td>\n",
       "      <td>0</td>\n",
       "      <td>1</td>\n",
       "      <td>0</td>\n",
       "      <td>0</td>\n",
       "      <td>0</td>\n",
       "      <td>0</td>\n",
       "      <td>0</td>\n",
       "      <td>0</td>\n",
       "      <td>1</td>\n",
       "      <td>0</td>\n",
       "      <td>0</td>\n",
       "      <td>0</td>\n",
       "      <td>2009-04-23T00:33:09</td>\n",
       "      <td>2009-04-23T00:33:09</td>\n",
       "    </tr>\n",
       "    <tr>\n",
       "      <th>38021637</th>\n",
       "      <td>fake_followers</td>\n",
       "      <td>1</td>\n",
       "      <td>16</td>\n",
       "      <td>0</td>\n",
       "      <td>0</td>\n",
       "      <td>0</td>\n",
       "      <td>0</td>\n",
       "      <td>1</td>\n",
       "      <td>0</td>\n",
       "      <td>0</td>\n",
       "      <td>0</td>\n",
       "      <td>0</td>\n",
       "      <td>0</td>\n",
       "      <td>0</td>\n",
       "      <td>1</td>\n",
       "      <td>0</td>\n",
       "      <td>0</td>\n",
       "      <td>0</td>\n",
       "      <td>2009-05-05T21:19:25</td>\n",
       "      <td>2009-05-05T21:19:25</td>\n",
       "    </tr>\n",
       "  </tbody>\n",
       "</table>\n",
       "</div>"
      ],
      "text/plain": [
       "                       label  count_tweets  count_words  count_truncated  \\\n",
       "user_id                                                                    \n",
       "467203615  social_spambots_1          1280        19395                0   \n",
       "545309765  social_spambots_1          1280        19305                0   \n",
       "21706899      fake_followers             1            2                0   \n",
       "34461690      fake_followers             1            5                0   \n",
       "38021637      fake_followers             1           16                0   \n",
       "\n",
       "           count_in_reply_to_status_id  count_in_reply_to_user_id  \\\n",
       "user_id                                                             \n",
       "467203615                            0                          0   \n",
       "545309765                            0                          0   \n",
       "21706899                             0                          0   \n",
       "34461690                             0                          0   \n",
       "38021637                             0                          0   \n",
       "\n",
       "           count_in_reply_to_screen_name  count_retweeted_status_id  \\\n",
       "user_id                                                               \n",
       "467203615                              0                          4   \n",
       "545309765                              0                          9   \n",
       "21706899                               0                          1   \n",
       "34461690                               0                          1   \n",
       "38021637                               0                          1   \n",
       "\n",
       "           count_place  sum_retweet_count  sum_reply_count  \\\n",
       "user_id                                                      \n",
       "467203615            0                991                0   \n",
       "545309765            0               1709                0   \n",
       "21706899             0                  0                0   \n",
       "34461690             0                  0                0   \n",
       "38021637             0                  0                0   \n",
       "\n",
       "           sum_favorite_count  count_favorited  count_retweeted  \\\n",
       "user_id                                                           \n",
       "467203615                 307                0                0   \n",
       "545309765                 453                0                0   \n",
       "21706899                    0                0                0   \n",
       "34461690                    0                0                0   \n",
       "38021637                    0                0                0   \n",
       "\n",
       "           possibly_sensitive  sum_num_hastags  sum_num_urls  \\\n",
       "user_id                                                        \n",
       "467203615                1240              100            33   \n",
       "545309765                1246              122            25   \n",
       "21706899                    1                0             0   \n",
       "34461690                    1                0             0   \n",
       "38021637                    1                0             0   \n",
       "\n",
       "           sum_num_mentions       max_created_at          min_created  \n",
       "user_id                                                                \n",
       "467203615                 4  2014-11-12T22:31:06  2014-05-19T19:55:39  \n",
       "545309765                14  2014-11-13T08:58:07  2014-05-27T10:12:33  \n",
       "21706899                  0  2009-02-23T23:26:02  2009-02-23T23:26:02  \n",
       "34461690                  0  2009-04-23T00:33:09  2009-04-23T00:33:09  \n",
       "38021637                  0  2009-05-05T21:19:25  2009-05-05T21:19:25  "
      ]
     },
     "execution_count": 23,
     "metadata": {},
     "output_type": "execute_result"
    }
   ],
   "source": [
    "df = pd.read_csv(\"summarize_accounts.csv\",  encoding='utf-8')\n",
    "\n",
    "df.head()"
   ]
  },
  {
   "cell_type": "code",
   "execution_count": 24,
   "metadata": {},
   "outputs": [
    {
     "data": {
      "text/plain": [
       "array(['social_spambots_1', 'fake_followers', 'genuine',\n",
       "       'social_spambots_3', 'social_spambots_2'], dtype=object)"
      ]
     },
     "execution_count": 24,
     "metadata": {},
     "output_type": "execute_result"
    }
   ],
   "source": [
    "df['label'].unique()"
   ]
  },
  {
   "cell_type": "code",
   "execution_count": 25,
   "metadata": {},
   "outputs": [
    {
     "data": {
      "text/plain": [
       "array(['label', 'count_tweets', 'count_words', 'count_truncated',\n",
       "       'count_in_reply_to_status_id', 'count_in_reply_to_user_id',\n",
       "       'count_in_reply_to_screen_name', 'count_retweeted_status_id',\n",
       "       'count_place', 'sum_retweet_count', 'sum_reply_count',\n",
       "       'sum_favorite_count', 'count_favorited', 'count_retweeted',\n",
       "       'possibly_sensitive', 'sum_num_hastags', 'sum_num_urls',\n",
       "       'sum_num_mentions', 'max_created_at', 'min_created'], dtype=object)"
      ]
     },
     "execution_count": 25,
     "metadata": {},
     "output_type": "execute_result"
    }
   ],
   "source": [
    "df.columns.values"
   ]
  },
  {
   "cell_type": "code",
   "execution_count": 26,
   "metadata": {},
   "outputs": [],
   "source": [
    "df['words_per_tweet'] = df['count_words']/df['count_tweets']"
   ]
  },
  {
   "cell_type": "code",
   "execution_count": 27,
   "metadata": {},
   "outputs": [],
   "source": [
    "# nothing in these column(s)\n",
    "\n",
    "columns = ['count_truncated', 'count_favorited']\n",
    "\n",
    "df = df.drop(columns, axis = 1)"
   ]
  },
  {
   "cell_type": "code",
   "execution_count": 28,
   "metadata": {},
   "outputs": [],
   "source": [
    "df['retweets_per_tweet'] = df['sum_retweet_count']/df['count_tweets']"
   ]
  },
  {
   "cell_type": "code",
   "execution_count": 29,
   "metadata": {},
   "outputs": [],
   "source": [
    "df['reply_per_tweet'] = df['sum_reply_count']/df['count_tweets']"
   ]
  },
  {
   "cell_type": "code",
   "execution_count": 30,
   "metadata": {},
   "outputs": [],
   "source": [
    "df['favcounts_per_tweet'] = df['sum_favorite_count']/df['count_tweets']"
   ]
  },
  {
   "cell_type": "code",
   "execution_count": 31,
   "metadata": {},
   "outputs": [],
   "source": [
    "df['percent_sensitive_tweets'] = (df['possibly_sensitive']/df['count_tweets'])*100"
   ]
  },
  {
   "cell_type": "code",
   "execution_count": 32,
   "metadata": {},
   "outputs": [],
   "source": [
    "df['hashtags_per_tweet'] = df['sum_num_hastags']/df['count_tweets']"
   ]
  },
  {
   "cell_type": "code",
   "execution_count": 33,
   "metadata": {},
   "outputs": [],
   "source": [
    "df['urls_per_tweet'] = df['sum_num_urls']/df['count_tweets']"
   ]
  },
  {
   "cell_type": "code",
   "execution_count": 34,
   "metadata": {},
   "outputs": [],
   "source": [
    "df['mentions_per_tweet'] = df['sum_num_mentions']/df['count_tweets']"
   ]
  },
  {
   "cell_type": "code",
   "execution_count": 35,
   "metadata": {},
   "outputs": [],
   "source": [
    "# SHOULD WE GET RID OF THESE? \n",
    "\n",
    "columns = ['min_created', 'max_created_at']\n",
    "\n",
    "df = df.drop(columns, axis = 1)"
   ]
  },
  {
   "cell_type": "code",
   "execution_count": 36,
   "metadata": {
    "scrolled": true
   },
   "outputs": [
    {
     "name": "stdout",
     "output_type": "stream",
     "text": [
      "total: 9197\n",
      "(991, 24)\n",
      "(3457, 24)\n",
      "(464, 24)\n",
      "(3202, 24)\n",
      "(1083, 24)\n"
     ]
    }
   ],
   "source": [
    "# show proportions\n",
    "\n",
    "spambot1 = df[(df['label'] == 'social_spambots_1')]\n",
    "spambot2 = df[(df['label'] == 'social_spambots_2')]\n",
    "spambot3 = df[(df['label'] == 'social_spambots_3')]\n",
    "fakefollowers = df[(df['label'] == 'fake_followers')]\n",
    "realusers = df[(df['label'] == 'genuine')]\n",
    "\n",
    "print('total:',(len(df['label'])))\n",
    "print(spambot1.shape)\n",
    "print(spambot2.shape)\n",
    "print(spambot3.shape)\n",
    "print(fakefollowers.shape)\n",
    "print(realusers.shape)"
   ]
  },
  {
   "cell_type": "code",
   "execution_count": 37,
   "metadata": {},
   "outputs": [],
   "source": [
    "df = df.drop('count_retweeted', axis = 1)"
   ]
  },
  {
   "cell_type": "markdown",
   "metadata": {},
   "source": [
    "## Explaination of some columns:\n",
    "\n",
    "https://developer.twitter.com/en/docs/tweets/data-dictionary/overview/tweet-object.html\n",
    "\n",
    "in_reply_to_status_id = \" If the represented Tweet is a reply, this field will contain the integer representation of the original Tweet’s ID\"\n",
    "\n",
    "in_reply_to_user_id\t= \"If the represented Tweet is a reply, this field will contain the integer representation of the original Tweet’s author ID. This will not necessarily always be the user directly mentioned in the Tweet.\"\n",
    "\n",
    "in_reply_to_screen_name\t= \"If the represented Tweet is a reply, this field will contain the screen name of the original Tweet’s author.\""
   ]
  },
  {
   "cell_type": "code",
   "execution_count": 38,
   "metadata": {},
   "outputs": [],
   "source": [
    "# splitting into test/traindf\n",
    "\n",
    "traindf, testdf = train_test_split(df, test_size = 0.25, random_state = 42)\n",
    "\n",
    "train_data = traindf\n",
    "test_data = testdf"
   ]
  },
  {
   "cell_type": "code",
   "execution_count": 39,
   "metadata": {},
   "outputs": [
    {
     "name": "stdout",
     "output_type": "stream",
     "text": [
      "training data size: (6897, 23)\n",
      "test data size: (2300, 23)\n"
     ]
    }
   ],
   "source": [
    "print('training data size:', train_data.shape)\n",
    "print('test data size:', test_data.shape)"
   ]
  },
  {
   "cell_type": "code",
   "execution_count": null,
   "metadata": {},
   "outputs": [],
   "source": [
    "# scatter matrix of training data\n",
    "\n",
    "sns.set(style=\"ticks\")\n",
    "sns.pairplot(traindf)"
   ]
  },
  {
   "cell_type": "code",
   "execution_count": null,
   "metadata": {},
   "outputs": [],
   "source": []
  }
 ],
 "metadata": {
  "kernelspec": {
   "display_name": "Python 3",
   "language": "python",
   "name": "python3"
  },
  "language_info": {
   "codemirror_mode": {
    "name": "ipython",
    "version": 3
   },
   "file_extension": ".py",
   "mimetype": "text/x-python",
   "name": "python",
   "nbconvert_exporter": "python",
   "pygments_lexer": "ipython3",
   "version": "3.6.5"
  }
 },
 "nbformat": 4,
 "nbformat_minor": 2
}
